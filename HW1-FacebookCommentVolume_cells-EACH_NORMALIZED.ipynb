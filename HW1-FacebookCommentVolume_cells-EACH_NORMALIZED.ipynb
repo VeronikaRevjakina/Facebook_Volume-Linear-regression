{
 "cells": [
  {
   "cell_type": "code",
   "execution_count": 1,
   "metadata": {},
   "outputs": [],
   "source": [
    "import pandas as pd\n",
    "import numpy as np\n",
    "import random"
   ]
  },
  {
   "cell_type": "code",
   "execution_count": 2,
   "metadata": {},
   "outputs": [],
   "source": [
    "#df = pd.read_csv (r'C:\\Notebook scripts\\Features_Variant_1.csv')\n",
    "df = pd.read_csv ('Features_Variant_1.csv')\n",
    "\n",
    "data_train=np.asarray(df.iloc[:,:])\n",
    "#print(np.shape(data_train))\n",
    "\n",
    "#shuffle before folding\n",
    "np.random.shuffle(data_train)"
   ]
  },
  {
   "cell_type": "code",
   "execution_count": 3,
   "metadata": {},
   "outputs": [],
   "source": [
    "#fold_1, fold_2, fold_3, fold_4, fold_5= np.array_split(data_train,5)\n",
    "data_train_arr=np.array_split(data_train,5) #{[],[],[],[],[]}\n",
    "\n",
    "y_train_arr=[]\n",
    "x_train_arr=[]\n",
    "for i in range(len(data_train_arr)):\n",
    "    y_train_arr.append(data_train_arr[i][:,-1].reshape((-1, 1)) )\n",
    "    x_train_arr.append(data_train_arr[i][:,:-1])\n"
   ]
  },
  {
   "cell_type": "code",
   "execution_count": 4,
   "metadata": {},
   "outputs": [],
   "source": [
    "#потом нормализовать по ф-ле\n",
    "mean_item=[]\n",
    "std_item=[]\n",
    "#print(x_train_arr[0][33,5])\n",
    "for item in range(len(x_train_arr)):\n",
    "    \n",
    "    mean_item=np.mean(x_train_arr[item],axis=0)#(1,53)\n",
    "    std_item=np.std(x_train_arr[item],axis=0)\n",
    "    np.place(std_item, std_item==0, 1)#if std==0 then change it to 1 for division #std_item[std_item==0]=1 \n",
    "    x_train_arr[item]=(x_train_arr[item]-mean_item)/std_item"
   ]
  },
  {
   "cell_type": "code",
   "execution_count": 5,
   "metadata": {},
   "outputs": [],
   "source": [
    "def normalization(X):\n",
    "    mean=np.mean(X,axis=0)#(1,53)\n",
    "    std=np.std(X,axis=0)\n",
    "    np.place(std, std==0, 1)#if std==0 then change it to 1 for division #std_item[std_item==0]=1 \n",
    "    x_normalized=(X-mean)/std\n",
    "    return x_normalized,mean,std\n",
    "def normalization_with_params(X,mean,std):\n",
    "    return (X-mean)/std"
   ]
  },
  {
   "cell_type": "code",
   "execution_count": 6,
   "metadata": {},
   "outputs": [],
   "source": [
    "# function to create a list containing mini-batches \n",
    "def create_mini_batches(X, y, batch_size): \n",
    "    mini_batches = [] \n",
    "    data = np.hstack((X, y)) \n",
    "    np.random.shuffle(data) \n",
    "    n_minibatches = data.shape[0] // batch_size \n",
    "    i = 0\n",
    "  \n",
    "    for i in range(n_minibatches + 1): \n",
    "        mini_batch = data[i * batch_size:(i + 1)*batch_size, :] \n",
    "        X_mini = mini_batch[:, :-1] \n",
    "        Y_mini = mini_batch[:, -1].reshape((-1, 1)) \n",
    "        mini_batches.append((X_mini, Y_mini)) \n",
    "    if data.shape[0] % batch_size != 0: \n",
    "        mini_batch = data[i * batch_size:data.shape[0]] \n",
    "        X_mini = mini_batch[:, :-1] \n",
    "        Y_mini = mini_batch[:, -1].reshape((-1, 1)) \n",
    "        mini_batches.append((X_mini, Y_mini)) \n",
    "    return mini_batches \n",
    "\n",
    "#что делать с омега0?-просто число но на самом деле вектор одинаковых чисел (8189,1) как и у размерность совпадает\n",
    "def linear_regression_predict(X,omega,omega0):\n",
    "    prod=X.dot(omega)#(8190,1)\n",
    "    #print(np.shape(y+prod))\n",
    "    return prod+omega0"
   ]
  },
  {
   "cell_type": "code",
   "execution_count": 7,
   "metadata": {},
   "outputs": [],
   "source": [
    "def root_mean_square_error(X,omega,omega0,y_actual):\n",
    "    y_predict=linear_regression_predict(X,omega,omega0)\n",
    "    summands=np.power(y_actual-y_predict,2)\n",
    "    #print(np.shape(summands))\n",
    "    mse=np.sum(summands)/len(y_predict)\n",
    "    return np.sqrt(mse)\n",
    "   \n",
    "def r_squared(X,omega,omega0,y_actual):\n",
    "    y_predict=linear_regression_predict(X,omega,omega0)\n",
    "    nom=np.sum(np.power(y_actual-y_predict,2))\n",
    "    denom=np.sum(np.power(y_actual-np.mean(y_actual,axis=0),2))\n",
    "    return 1-nom/denom"
   ]
  },
  {
   "cell_type": "code",
   "execution_count": 8,
   "metadata": {},
   "outputs": [],
   "source": [
    "def batch_gradient_descent(X,y_train,learning_rate,num_iterations):\n",
    "                                   # dim omega\n",
    "    #omega = np.matrix([0.0 for i in range(num_parameters)])\n",
    "    omega=np.random.sample((X.shape[1],1)) #np.zeros((X.shape[1],1))\n",
    "    omega0=0\n",
    "    cost = [] \n",
    "    # init omega\n",
    "    #cost = [0.0 for i in range(num_iterations)]\n",
    "    it=0\n",
    "    for it in range(num_iterations): \n",
    "        N=len(X)\n",
    "        error=y_train-linear_regression_predict(X,omega,omega0)\n",
    "        omega=omega+learning_rate*2*((X.T).dot(error))/N\n",
    "        omega0=omega0+learning_rate*2*np.sum(error)/N\n",
    "        cost[it] = r_squared(X,omega,omega0,y_train)\n",
    "    return omega,omega0,cost\n",
    "\n",
    "def mini_batch_gradient_descent(X,y_train,learning_rate,num_epoches,batch_size):\n",
    "                                   # dim omega\n",
    "    #omega = np.matrix([0.0 for i in range(num_parameters)])\n",
    "    omega=np.random.sample((X.shape[1],1)) #np.zeros((X.shape[1],1))\n",
    "    omega0=0\n",
    "    cost = [] \n",
    "    # init omega\n",
    "    #cost = [0.0 for i in range(num_iterations)]\n",
    "    it=0\n",
    "    for it in range(num_epoches): \n",
    "        mini_batches = create_mini_batches(X, y_train, batch_size) \n",
    "        for mini_batch in mini_batches: \n",
    "            X_mini, y_mini = mini_batch \n",
    "            N=len(X_mini)\n",
    "            error=y_mini-linear_regression_predict(X_mini,omega,omega0)\n",
    "            omega=omega+learning_rate*2*((X_mini.T).dot(error))/N\n",
    "            omega0=omega0+learning_rate*2*np.sum(error)/N\n",
    "            cost.append(r_squared(X_mini,omega,omega0, y_mini)) \n",
    "    return omega,omega0,cost"
   ]
  },
  {
   "cell_type": "code",
   "execution_count": 9,
   "metadata": {},
   "outputs": [
    {
     "name": "stdout",
     "output_type": "stream",
     "text": [
      "0.34786183806782656 26.552376656623256\n",
      "0.3716071494018436 27.58937701714877\n",
      "0.2891103498543576 33.53152181095374\n",
      "0.22284022796234493 33.149489411266536\n",
      "0.3055302905763626 26.49727913630891\n"
     ]
    }
   ],
   "source": [
    "r2=[]\n",
    "rmse=[]\n",
    "omega=[]\n",
    "omega0=[]\n",
    "for item in range(len(x_train_arr)):\n",
    "    x_test=x_train_arr[item]\n",
    "    y_test=y_train_arr[item]\n",
    "    x_train_folds_arr=np.delete(x_train_arr,item)\n",
    "    y_train_folds_arr=np.delete(y_train_arr,item)\n",
    "    \n",
    "    x_train=np.empty((0,x_train_arr[item].shape[1]), int)\n",
    "    y_train=np.empty((0,y_train_arr[item].shape[1]), int)\n",
    "    #print(np.shape(y_train_folds_arr))\n",
    "    for i in range (len(x_train_folds_arr)):\n",
    "        #print(np.shape(y_train_folds_arr[i]))\n",
    "        #x_train_all55 =(np.vstack((x_train_all55,x_train_folds_arr[i])))\n",
    "        x_train=np.concatenate((x_train,x_train_arr[i]))\n",
    "        y_train=np.concatenate((y_train,y_train_arr[i]))\n",
    "    #print(np.shape(y_train))\n",
    "    #x_train,mean,std=normalization(x_train_rd)\n",
    "    #x_test=normalization_with_params(x_test_rd,mean,std)\n",
    "    #print(x)\n",
    "    omega_item,omega0_item,cost=mini_batch_gradient_descent(x_train,y_train,learning_rate = 0.001,num_epoches=10,batch_size=32)\n",
    "    r2.insert(item,r_squared(x_test,omega_item,omega0_item,y_test))\n",
    "    rmse.insert(item,root_mean_square_error(x_test,omega_item,omega0_item,y_test))\n",
    "    omega.insert(item,omega_item)\n",
    "    omega0.insert(item,omega0_item)\n",
    "    print(r2[item],rmse[item])"
   ]
  },
  {
   "cell_type": "code",
   "execution_count": 10,
   "metadata": {},
   "outputs": [
    {
     "data": {
      "text/plain": [
       "([26.552376656623256,\n",
       "  27.58937701714877,\n",
       "  33.53152181095374,\n",
       "  33.149489411266536,\n",
       "  26.49727913630891],\n",
       " [0.34786183806782656,\n",
       "  0.3716071494018436,\n",
       "  0.2891103498543576,\n",
       "  0.22284022796234493,\n",
       "  0.3055302905763626])"
      ]
     },
     "execution_count": 10,
     "metadata": {},
     "output_type": "execute_result"
    }
   ],
   "source": [
    "omega,omega0\n",
    "rmse,r2"
   ]
  },
  {
   "cell_type": "code",
   "execution_count": 11,
   "metadata": {},
   "outputs": [
    {
     "data": {
      "text/plain": [
       "29.464008806460242"
      ]
     },
     "execution_count": 11,
     "metadata": {},
     "output_type": "execute_result"
    }
   ],
   "source": [
    "np.mean(rmse)"
   ]
  },
  {
   "cell_type": "code",
   "execution_count": 12,
   "metadata": {},
   "outputs": [
    {
     "data": {
      "text/plain": [
       "0.30738997117254707"
      ]
     },
     "execution_count": 12,
     "metadata": {},
     "output_type": "execute_result"
    }
   ],
   "source": [
    "np.mean(r2)"
   ]
  },
  {
   "cell_type": "code",
   "execution_count": 13,
   "metadata": {},
   "outputs": [
    {
     "data": {
      "text/html": [
       "<div>\n",
       "<style scoped>\n",
       "    .dataframe tbody tr th:only-of-type {\n",
       "        vertical-align: middle;\n",
       "    }\n",
       "\n",
       "    .dataframe tbody tr th {\n",
       "        vertical-align: top;\n",
       "    }\n",
       "\n",
       "    .dataframe thead th {\n",
       "        text-align: right;\n",
       "    }\n",
       "</style>\n",
       "<table border=\"1\" class=\"dataframe\">\n",
       "  <thead>\n",
       "    <tr style=\"text-align: right;\">\n",
       "      <th></th>\n",
       "      <th>1</th>\n",
       "      <th>2</th>\n",
       "      <th>3</th>\n",
       "      <th>4</th>\n",
       "      <th>5</th>\n",
       "      <th>E</th>\n",
       "      <th>SD</th>\n",
       "    </tr>\n",
       "  </thead>\n",
       "  <tbody>\n",
       "    <tr>\n",
       "      <th>RMSE</th>\n",
       "      <td>26.5524</td>\n",
       "      <td>27.5894</td>\n",
       "      <td>33.5315</td>\n",
       "      <td>33.1495</td>\n",
       "      <td>26.4973</td>\n",
       "      <td>29.464</td>\n",
       "      <td>3.19126</td>\n",
       "    </tr>\n",
       "    <tr>\n",
       "      <th>R^2</th>\n",
       "      <td>0.347862</td>\n",
       "      <td>0.371607</td>\n",
       "      <td>0.28911</td>\n",
       "      <td>0.22284</td>\n",
       "      <td>0.30553</td>\n",
       "      <td>0.30739</td>\n",
       "      <td>0.0514744</td>\n",
       "    </tr>\n",
       "    <tr>\n",
       "      <th>omega0</th>\n",
       "      <td>7.3802</td>\n",
       "      <td>7.28332</td>\n",
       "      <td>7.44745</td>\n",
       "      <td>7.48059</td>\n",
       "      <td>7.52315</td>\n",
       "      <td>7.42294</td>\n",
       "      <td>0.0840073</td>\n",
       "    </tr>\n",
       "    <tr>\n",
       "      <th>weights</th>\n",
       "      <td>[[0.1156910873320588], [-0.5548558845504826], ...</td>\n",
       "      <td>[[0.12195366168896402], [-0.6228197793398563],...</td>\n",
       "      <td>[[-0.16894189652840144], [-0.7680179195613437]...</td>\n",
       "      <td>[[-0.14455329746851495], [-0.635433489594518],...</td>\n",
       "      <td>[[-0.032010564570510394], [-0.739859838245777]...</td>\n",
       "      <td>[[-0.021572201909280796], [-0.6641973822583955...</td>\n",
       "      <td>[[0.12360584150201263], [0.07873822690077315],...</td>\n",
       "    </tr>\n",
       "  </tbody>\n",
       "</table>\n",
       "</div>"
      ],
      "text/plain": [
       "                                                         1  \\\n",
       "RMSE                                               26.5524   \n",
       "R^2                                               0.347862   \n",
       "omega0                                              7.3802   \n",
       "weights  [[0.1156910873320588], [-0.5548558845504826], ...   \n",
       "\n",
       "                                                         2  \\\n",
       "RMSE                                               27.5894   \n",
       "R^2                                               0.371607   \n",
       "omega0                                             7.28332   \n",
       "weights  [[0.12195366168896402], [-0.6228197793398563],...   \n",
       "\n",
       "                                                         3  \\\n",
       "RMSE                                               33.5315   \n",
       "R^2                                                0.28911   \n",
       "omega0                                             7.44745   \n",
       "weights  [[-0.16894189652840144], [-0.7680179195613437]...   \n",
       "\n",
       "                                                         4  \\\n",
       "RMSE                                               33.1495   \n",
       "R^2                                                0.22284   \n",
       "omega0                                             7.48059   \n",
       "weights  [[-0.14455329746851495], [-0.635433489594518],...   \n",
       "\n",
       "                                                         5  \\\n",
       "RMSE                                               26.4973   \n",
       "R^2                                                0.30553   \n",
       "omega0                                             7.52315   \n",
       "weights  [[-0.032010564570510394], [-0.739859838245777]...   \n",
       "\n",
       "                                                         E  \\\n",
       "RMSE                                                29.464   \n",
       "R^2                                                0.30739   \n",
       "omega0                                             7.42294   \n",
       "weights  [[-0.021572201909280796], [-0.6641973822583955...   \n",
       "\n",
       "                                                        SD  \n",
       "RMSE                                               3.19126  \n",
       "R^2                                              0.0514744  \n",
       "omega0                                           0.0840073  \n",
       "weights  [[0.12360584150201263], [0.07873822690077315],...  "
      ]
     },
     "execution_count": 13,
     "metadata": {},
     "output_type": "execute_result"
    }
   ],
   "source": [
    "\n",
    "# initialise data of lists. \n",
    "data = {'1':[rmse[0],r2[0],omega0[0], omega[0]], \n",
    "        '2':[rmse[1],r2[1],omega0[1], omega[1]],\n",
    "        '3':[rmse[2],r2[2],omega0[2], omega[2]],\n",
    "        '4':[rmse[3],r2[3],omega0[3], omega[3]],\n",
    "        '5':[rmse[4],r2[4],omega0[4], omega[4]],\n",
    "        'E':[np.mean(rmse),np.mean(r2), np.mean(omega0),np.mean(omega,axis=0)],\n",
    "        'SD':[np.std(rmse),np.std(r2), np.std(omega0),np.std(omega,axis=0)]} \n",
    " \n",
    "# Creates pandas DataFrame. \n",
    "df = pd.DataFrame(data, index =['RMSE', 'R^2', 'omega0', 'weights']) \n",
    "df"
   ]
  },
  {
   "cell_type": "code",
   "execution_count": null,
   "metadata": {},
   "outputs": [],
   "source": [
    "np.mean(omega,axis=0),np.mean(omega0)"
   ]
  },
  {
   "cell_type": "code",
   "execution_count": null,
   "metadata": {},
   "outputs": [],
   "source": []
  }
 ],
 "metadata": {
  "kernelspec": {
   "display_name": "Python 3",
   "language": "python",
   "name": "python3"
  },
  "language_info": {
   "codemirror_mode": {
    "name": "ipython",
    "version": 3
   },
   "file_extension": ".py",
   "mimetype": "text/x-python",
   "name": "python",
   "nbconvert_exporter": "python",
   "pygments_lexer": "ipython3",
   "version": "3.6.4"
  }
 },
 "nbformat": 4,
 "nbformat_minor": 2
}
