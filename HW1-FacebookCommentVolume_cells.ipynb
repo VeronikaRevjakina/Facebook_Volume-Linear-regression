{
 "cells": [
  {
   "cell_type": "code",
   "execution_count": 59,
   "metadata": {},
   "outputs": [],
   "source": [
    "import pandas as pd\n",
    "import numpy as np\n",
    "import random"
   ]
  },
  {
   "cell_type": "code",
   "execution_count": 60,
   "metadata": {},
   "outputs": [],
   "source": [
    "df = pd.read_csv (r'C:\\Notebook scripts\\Features_Variant_1.csv')\n",
    "\n",
    "data_train=np.asarray(df.iloc[:,:])\n",
    "#print(np.shape(data_train))\n",
    "\n",
    "#shuffle before folding\n",
    "np.random.shuffle(data_train)"
   ]
  },
  {
   "cell_type": "code",
   "execution_count": 61,
   "metadata": {},
   "outputs": [],
   "source": [
    "#fold_1, fold_2, fold_3, fold_4, fold_5= np.array_split(data_train,5)\n",
    "data_train_arr=np.array_split(data_train,5) #{[],[],[],[],[]}\n",
    "\n",
    "y_train_arr=[]\n",
    "x_train_arr=[]\n",
    "for i in range(len(data_train_arr)):\n",
    "    y_train_arr.append(data_train_arr[i][:,-1].reshape((-1, 1)) )\n",
    "    x_train_arr.append(data_train_arr[i][:,:-1])\n"
   ]
  },
  {
   "cell_type": "code",
   "execution_count": 62,
   "metadata": {},
   "outputs": [],
   "source": [
    "#потом нормализовать по ф-ле\n",
    "mean_item=[]\n",
    "std_item=[]\n",
    "#print(x_train_arr[0][33,5])\n",
    "for item in range(len(x_train_arr)):\n",
    "    \n",
    "    mean_item=np.mean(x_train_arr[item],axis=0)#(1,53)\n",
    "    std_item=np.std(x_train_arr[item],axis=0)\n",
    "    np.place(std_item, std_item==0, 1)#if std==0 then change it to 1 for division #std_item[std_item==0]=1 \n",
    "    x_train_arr[item]=(x_train_arr[item]-mean_item)/std_item"
   ]
  },
  {
   "cell_type": "code",
   "execution_count": 63,
   "metadata": {},
   "outputs": [],
   "source": [
    "# function to create a list containing mini-batches \n",
    "def create_mini_batches(X, y, batch_size): \n",
    "    mini_batches = [] \n",
    "    data = np.hstack((X, y)) \n",
    "    np.random.shuffle(data) \n",
    "    n_minibatches = data.shape[0] // batch_size \n",
    "    i = 0\n",
    "  \n",
    "    for i in range(n_minibatches + 1): \n",
    "        mini_batch = data[i * batch_size:(i + 1)*batch_size, :] \n",
    "        X_mini = mini_batch[:, :-1] \n",
    "        Y_mini = mini_batch[:, -1].reshape((-1, 1)) \n",
    "        mini_batches.append((X_mini, Y_mini)) \n",
    "    if data.shape[0] % batch_size != 0: \n",
    "        mini_batch = data[i * batch_size:data.shape[0]] \n",
    "        X_mini = mini_batch[:, :-1] \n",
    "        Y_mini = mini_batch[:, -1].reshape((-1, 1)) \n",
    "        mini_batches.append((X_mini, Y_mini)) \n",
    "    return mini_batches \n",
    "\n",
    "#что делать с омега0?-просто число но на самом деле вектор одинаковых чисел (8189,1) как и у размерность совпадает\n",
    "def linear_regression_predict(X,omega,omega0):\n",
    "    prod=X.dot(omega)#(8190,1)\n",
    "    #print(np.shape(y+prod))\n",
    "    return prod+omega0"
   ]
  },
  {
   "cell_type": "code",
   "execution_count": 64,
   "metadata": {},
   "outputs": [],
   "source": [
    "def root_mean_square_error(X,omega,omega0,y_actual):\n",
    "    y_predict=linear_regression_predict(X,omega,omega0)\n",
    "    summands=np.power(y_actual-y_predict,2)\n",
    "    #print(np.shape(summands))\n",
    "    mse=np.sum(summands)/len(y_predict)\n",
    "    return np.sqrt(mse)\n",
    "   \n",
    "def r_squared(X,omega,omega0,y_actual):\n",
    "    y_predict=linear_regression_predict(X,omega,omega0)\n",
    "    nom=np.sum(np.power(y_actual-y_predict,2))\n",
    "    denom=np.sum(np.power(y_actual-np.mean(y_actual,axis=0),2))\n",
    "    return 1-nom/denom"
   ]
  },
  {
   "cell_type": "code",
   "execution_count": 65,
   "metadata": {},
   "outputs": [],
   "source": [
    "def batch_gradient_descent(X,y_train,learning_rate,num_iterations):\n",
    "                                   # dim omega\n",
    "    #omega = np.matrix([0.0 for i in range(num_parameters)])\n",
    "    omega=np.random.sample((X.shape[1],1)) #np.zeros((X.shape[1],1))\n",
    "    omega0=0\n",
    "    cost = [] \n",
    "    # init omega\n",
    "    #cost = [0.0 for i in range(num_iterations)]\n",
    "    it=0\n",
    "    for it in range(num_iterations): \n",
    "        N=len(X)\n",
    "        error=y_train-linear_regression_predict(X,omega,omega0)\n",
    "        omega=omega+learning_rate*2*((X.T).dot(error))/N\n",
    "        omega0=omega0+learning_rate*2*np.sum(error)/N\n",
    "        cost[it] = r_squared(X,omega,omega0,y_train)\n",
    "    return omega,omega0,cost\n",
    "\n",
    "def mini_batch_gradient_descent(X,y_train,learning_rate,num_epoches,batch_size):\n",
    "                                   # dim omega\n",
    "    #omega = np.matrix([0.0 for i in range(num_parameters)])\n",
    "    omega=np.random.sample((X.shape[1],1)) #np.zeros((X.shape[1],1))\n",
    "    omega0=0\n",
    "    cost = [] \n",
    "    # init omega\n",
    "    #cost = [0.0 for i in range(num_iterations)]\n",
    "    it=0\n",
    "    for it in range(num_epoches): \n",
    "        mini_batches = create_mini_batches(X, y_train, batch_size) \n",
    "        for mini_batch in mini_batches: \n",
    "            X_mini, y_mini = mini_batch \n",
    "            N=len(X_mini)\n",
    "            error=y_mini-linear_regression_predict(X_mini,omega,omega0)\n",
    "            omega=omega+learning_rate*2*((X_mini.T).dot(error))/N\n",
    "            omega0=omega0+learning_rate*2*np.sum(error)/N\n",
    "            cost.append(r_squared(X_mini,omega,omega0, y_mini)) \n",
    "    return omega,omega0,cost"
   ]
  },
  {
   "cell_type": "code",
   "execution_count": 66,
   "metadata": {},
   "outputs": [
    {
     "data": {
      "text/plain": [
       "(0.3330320742042894, 24.10272015144553)"
      ]
     },
     "execution_count": 66,
     "metadata": {},
     "output_type": "execute_result"
    }
   ],
   "source": [
    "x_train_1=(np.concatenate((x_train_arr[0],x_train_arr[2],x_train_arr[3],x_train_arr[4])))\n",
    "y_train_1=(np.concatenate((y_train_arr[0],y_train_arr[2],y_train_arr[3],y_train_arr[4])))\n",
    "\n",
    "omega_1,omega0_1,cost=mini_batch_gradient_descent(x_train_1,y_train_1,learning_rate = 0.001,num_epoches=10,batch_size=32)\n",
    "\n",
    "r2_1=r_squared(x_train_arr[1],omega_1,omega0_1,y_train_arr[1])\n",
    "rmse_1=root_mean_square_error(x_train_arr[1],omega_1,omega0_1,y_train_arr[1])\n",
    "\n",
    "r2=[]\n",
    "rmse=[]\n",
    "omega=[]\n",
    "omega0=[]\n",
    "r2.insert(1,r2_1)\n",
    "rmse.insert(1,rmse_1)\n",
    "omega.insert(1,omega_1)\n",
    "omega0.insert(1,omega0_1)\n",
    "r2_1,rmse_1\n"
   ]
  },
  {
   "cell_type": "code",
   "execution_count": 67,
   "metadata": {},
   "outputs": [
    {
     "data": {
      "text/plain": [
       "(0.3600822344832417, 27.921513308173285)"
      ]
     },
     "execution_count": 67,
     "metadata": {},
     "output_type": "execute_result"
    }
   ],
   "source": [
    "x_train_2=(np.concatenate((x_train_arr[1],x_train_arr[0],x_train_arr[3],x_train_arr[4])))\n",
    "y_train_2=(np.concatenate((y_train_arr[1],y_train_arr[0],y_train_arr[3],y_train_arr[4])))\n",
    "\n",
    "omega_2,omega0_2,cost=mini_batch_gradient_descent(x_train_2,y_train_2,learning_rate = 0.001,num_epoches=10,batch_size=32)\n",
    "\n",
    "r2_2=r_squared(x_train_arr[2],omega_2,omega0_2,y_train_arr[2])\n",
    "rmse_2=root_mean_square_error(x_train_arr[2],omega_2,omega0_2,y_train_arr[2])\n",
    "r2.insert(2,r2_2)\n",
    "rmse.insert(2,rmse_2)\n",
    "omega.insert(2,omega_2)\n",
    "omega0.insert(2,omega0_2)\n",
    "r2_2,rmse_2"
   ]
  },
  {
   "cell_type": "code",
   "execution_count": 68,
   "metadata": {},
   "outputs": [
    {
     "data": {
      "text/plain": [
       "(0.3305421136640012, 32.66239816128469)"
      ]
     },
     "execution_count": 68,
     "metadata": {},
     "output_type": "execute_result"
    }
   ],
   "source": [
    "x_train_0=(np.concatenate((x_train_arr[1],x_train_arr[2],x_train_arr[3],x_train_arr[4])))\n",
    "y_train_0=(np.concatenate((y_train_arr[1],y_train_arr[2],y_train_arr[3],y_train_arr[4])))\n",
    "\n",
    "omega_0,omega0_0,cost=mini_batch_gradient_descent(x_train_0,y_train_0,learning_rate = 0.001,num_epoches=10,batch_size=32)\n",
    "\n",
    "r2_0=r_squared(x_train_arr[0],omega_0,omega0_0,y_train_arr[0])\n",
    "rmse_0=root_mean_square_error(x_train_arr[0],omega_0,omega0_0,y_train_arr[0])\n",
    "r2.insert(0,r2_0)\n",
    "rmse.insert(0,rmse_0)\n",
    "omega.insert(0,omega_0)\n",
    "omega0.insert(0,omega0_0)\n",
    "r2_0,rmse_0\n",
    "\n"
   ]
  },
  {
   "cell_type": "code",
   "execution_count": 69,
   "metadata": {},
   "outputs": [
    {
     "data": {
      "text/plain": [
       "(0.3004581714627371, 26.923860625799758)"
      ]
     },
     "execution_count": 69,
     "metadata": {},
     "output_type": "execute_result"
    }
   ],
   "source": [
    "x_train_3=(np.concatenate((x_train_arr[1],x_train_arr[2],x_train_arr[0],x_train_arr[4])))\n",
    "y_train_3=(np.concatenate((y_train_arr[1],y_train_arr[2],y_train_arr[0],y_train_arr[4])))\n",
    "\n",
    "omega_3,omega0_3,cost=mini_batch_gradient_descent(x_train_3,y_train_3,learning_rate = 0.001,num_epoches=10,batch_size=32)\n",
    "\n",
    "r2_3=r_squared(x_train_arr[3],omega_3,omega0_3,y_train_arr[3])\n",
    "rmse_3=root_mean_square_error(x_train_arr[3],omega_3,omega0_3,y_train_arr[3])\n",
    "r2.insert(3,r2_3)\n",
    "rmse.insert(3,rmse_3)\n",
    "omega.insert(3,omega_3)\n",
    "omega0.insert(3,omega0_3)\n",
    "r2_3,rmse_3"
   ]
  },
  {
   "cell_type": "code",
   "execution_count": 70,
   "metadata": {},
   "outputs": [
    {
     "data": {
      "text/plain": [
       "(0.23388135757718598, 34.77459078377353)"
      ]
     },
     "execution_count": 70,
     "metadata": {},
     "output_type": "execute_result"
    }
   ],
   "source": [
    "x_train_4=(np.concatenate((x_train_arr[1],x_train_arr[2],x_train_arr[0],x_train_arr[3])))\n",
    "y_train_4=(np.concatenate((y_train_arr[1],y_train_arr[2],y_train_arr[0],y_train_arr[3])))\n",
    "\n",
    "omega_4,omega0_4,cost=mini_batch_gradient_descent(x_train_4,y_train_4,learning_rate = 0.001,num_epoches=25,batch_size=32)\n",
    "\n",
    "r2_4=r_squared(x_train_arr[4],omega_4,omega0_4,y_train_arr[4])\n",
    "rmse_4=root_mean_square_error(x_train_arr[4],omega_4,omega0_4,y_train_arr[4])\n",
    "r2.insert(4,r2_4)\n",
    "rmse.insert(4,rmse_4)\n",
    "omega.insert(4,omega_4)\n",
    "omega0.insert(4,omega0_4)\n",
    "r2_4,rmse_4"
   ]
  },
  {
   "cell_type": "code",
   "execution_count": 71,
   "metadata": {},
   "outputs": [
    {
     "data": {
      "text/plain": [
       "([32.66239816128469,\n",
       "  24.10272015144553,\n",
       "  27.921513308173285,\n",
       "  26.923860625799758,\n",
       "  34.77459078377353],\n",
       " [0.3305421136640012,\n",
       "  0.3330320742042894,\n",
       "  0.3600822344832417,\n",
       "  0.3004581714627371,\n",
       "  0.23388135757718598])"
      ]
     },
     "execution_count": 71,
     "metadata": {},
     "output_type": "execute_result"
    }
   ],
   "source": [
    "omega,omega0\n",
    "rmse,r2"
   ]
  },
  {
   "cell_type": "code",
   "execution_count": 72,
   "metadata": {},
   "outputs": [
    {
     "data": {
      "text/plain": [
       "29.277016606095362"
      ]
     },
     "execution_count": 72,
     "metadata": {},
     "output_type": "execute_result"
    }
   ],
   "source": [
    "np.mean(rmse)"
   ]
  },
  {
   "cell_type": "code",
   "execution_count": 73,
   "metadata": {},
   "outputs": [
    {
     "data": {
      "text/plain": [
       "0.3115991902782911"
      ]
     },
     "execution_count": 73,
     "metadata": {},
     "output_type": "execute_result"
    }
   ],
   "source": [
    "np.mean(r2)"
   ]
  },
  {
   "cell_type": "code",
   "execution_count": 78,
   "metadata": {},
   "outputs": [
    {
     "data": {
      "text/plain": [
       "(array([[-3.16973910e-01],\n",
       "        [-6.47711504e-01],\n",
       "        [-1.18014532e+00],\n",
       "        [-1.58015803e-01],\n",
       "        [-6.82192440e-01],\n",
       "        [ 1.09391026e+00],\n",
       "        [ 9.24217916e-01],\n",
       "        [ 1.95303076e-01],\n",
       "        [ 2.33024236e+00],\n",
       "        [ 1.21355668e-01],\n",
       "        [-4.32635973e-01],\n",
       "        [ 3.51682141e-01],\n",
       "        [ 2.60876355e+00],\n",
       "        [ 1.05257576e+00],\n",
       "        [ 1.17298408e-01],\n",
       "        [ 9.69712472e-01],\n",
       "        [ 7.76183073e-01],\n",
       "        [ 2.82646940e+00],\n",
       "        [-4.01039607e-03],\n",
       "        [-5.67092041e-01],\n",
       "        [-1.53036040e+00],\n",
       "        [-5.38651922e-01],\n",
       "        [-1.13085901e+00],\n",
       "        [-9.19226993e-02],\n",
       "        [ 6.71979677e-01],\n",
       "        [-4.36604854e-01],\n",
       "        [ 2.89710585e-02],\n",
       "        [-2.36920799e-01],\n",
       "        [-2.45174142e-01],\n",
       "        [-4.55100105e-01],\n",
       "        [ 1.06076625e+01],\n",
       "        [ 2.97070825e+00],\n",
       "        [-1.86226241e+00],\n",
       "        [ 6.41670696e+00],\n",
       "        [-4.09434254e+00],\n",
       "        [ 1.04392575e-01],\n",
       "        [ 3.01785867e+00],\n",
       "        [ 5.41048910e-01],\n",
       "        [ 8.14293025e-01],\n",
       "        [ 3.24694730e-01],\n",
       "        [ 3.02314942e-01],\n",
       "        [ 2.63725363e-01],\n",
       "        [ 8.46522499e-01],\n",
       "        [ 6.36491763e-01],\n",
       "        [ 7.11068003e-01],\n",
       "        [ 3.44442973e-01],\n",
       "        [ 2.61551626e-01],\n",
       "        [ 5.97794493e-01],\n",
       "        [ 3.08997694e-01],\n",
       "        [ 8.42672397e-01],\n",
       "        [ 3.96367657e-01],\n",
       "        [ 4.68996985e-01],\n",
       "        [ 2.42589689e-01]]), 7.342494173839816)"
      ]
     },
     "execution_count": 78,
     "metadata": {},
     "output_type": "execute_result"
    }
   ],
   "source": [
    "np.mean(omega,axis=0),np.mean(omega0)"
   ]
  },
  {
   "cell_type": "code",
   "execution_count": 79,
   "metadata": {},
   "outputs": [
    {
     "data": {
      "text/plain": [
       "(array([[0.71679107],\n",
       "        [0.17066199],\n",
       "        [0.30272207],\n",
       "        [0.07987249],\n",
       "        [0.61835669],\n",
       "        [0.23830868],\n",
       "        [0.54658257],\n",
       "        [0.58381919],\n",
       "        [0.23141935],\n",
       "        [0.62034804],\n",
       "        [0.3678269 ],\n",
       "        [0.80565105],\n",
       "        [0.35514059],\n",
       "        [1.07140354],\n",
       "        [0.30210496],\n",
       "        [0.56641299],\n",
       "        [0.37517487],\n",
       "        [0.4462755 ],\n",
       "        [0.43829577],\n",
       "        [0.29843375],\n",
       "        [0.41364893],\n",
       "        [0.40422965],\n",
       "        [0.46367623],\n",
       "        [0.38135131],\n",
       "        [0.27878848],\n",
       "        [0.13138862],\n",
       "        [0.65690186],\n",
       "        [0.8882246 ],\n",
       "        [0.84810506],\n",
       "        [0.27723678],\n",
       "        [0.33284244],\n",
       "        [0.27376196],\n",
       "        [0.59918041],\n",
       "        [0.17645433],\n",
       "        [0.17296804],\n",
       "        [0.14806789],\n",
       "        [0.56536354],\n",
       "        [0.31652653],\n",
       "        [0.0463535 ],\n",
       "        [0.22235049],\n",
       "        [0.1093785 ],\n",
       "        [0.09994433],\n",
       "        [0.18636447],\n",
       "        [0.16768732],\n",
       "        [0.12283306],\n",
       "        [0.08360027],\n",
       "        [0.13671827],\n",
       "        [0.23579617],\n",
       "        [0.1604526 ],\n",
       "        [0.14866017],\n",
       "        [0.10240727],\n",
       "        [0.08705985],\n",
       "        [0.11518821]]), 0.15007238771879045)"
      ]
     },
     "execution_count": 79,
     "metadata": {},
     "output_type": "execute_result"
    }
   ],
   "source": [
    "np.std(omega,axis=0),np.std(omega0)"
   ]
  },
  {
   "cell_type": "code",
   "execution_count": 86,
   "metadata": {},
   "outputs": [
    {
     "data": {
      "text/html": [
       "<div>\n",
       "<style scoped>\n",
       "    .dataframe tbody tr th:only-of-type {\n",
       "        vertical-align: middle;\n",
       "    }\n",
       "\n",
       "    .dataframe tbody tr th {\n",
       "        vertical-align: top;\n",
       "    }\n",
       "\n",
       "    .dataframe thead th {\n",
       "        text-align: right;\n",
       "    }\n",
       "</style>\n",
       "<table border=\"1\" class=\"dataframe\">\n",
       "  <thead>\n",
       "    <tr style=\"text-align: right;\">\n",
       "      <th></th>\n",
       "      <th>1</th>\n",
       "      <th>2</th>\n",
       "      <th>3</th>\n",
       "      <th>4</th>\n",
       "      <th>5</th>\n",
       "      <th>E</th>\n",
       "      <th>SD</th>\n",
       "    </tr>\n",
       "  </thead>\n",
       "  <tbody>\n",
       "    <tr>\n",
       "      <th>RMSE</th>\n",
       "      <td>32.6624</td>\n",
       "      <td>24.1027</td>\n",
       "      <td>27.9215</td>\n",
       "      <td>26.9239</td>\n",
       "      <td>34.7746</td>\n",
       "      <td>29.277</td>\n",
       "      <td>3.89441</td>\n",
       "    </tr>\n",
       "    <tr>\n",
       "      <th>R^2</th>\n",
       "      <td>0.330542</td>\n",
       "      <td>0.333032</td>\n",
       "      <td>0.360082</td>\n",
       "      <td>0.300458</td>\n",
       "      <td>0.233881</td>\n",
       "      <td>0.311599</td>\n",
       "      <td>0.0432041</td>\n",
       "    </tr>\n",
       "    <tr>\n",
       "      <th>omega0</th>\n",
       "      <td>7.1518</td>\n",
       "      <td>7.4492</td>\n",
       "      <td>7.26895</td>\n",
       "      <td>7.57462</td>\n",
       "      <td>7.2679</td>\n",
       "      <td>7.34249</td>\n",
       "      <td>0.150072</td>\n",
       "    </tr>\n",
       "    <tr>\n",
       "      <th>weights</th>\n",
       "      <td>[[-1.5922402985042114], [-0.7891826195734165],...</td>\n",
       "      <td>[[-0.2996122782874196], [-0.5545957366298386],...</td>\n",
       "      <td>[[-0.13967213709313253], [-0.5314484880875563]...</td>\n",
       "      <td>[[-0.18105718045268585], [-0.45680968289535084...</td>\n",
       "      <td>[[0.6277123460463381], [-0.9065209921186184], ...</td>\n",
       "      <td>[[-0.3169739096582222], [-0.6477115038609561],...</td>\n",
       "      <td>[[0.7167910694636062], [0.1706619863852937], [...</td>\n",
       "    </tr>\n",
       "  </tbody>\n",
       "</table>\n",
       "</div>"
      ],
      "text/plain": [
       "                                                         1  \\\n",
       "RMSE                                               32.6624   \n",
       "R^2                                               0.330542   \n",
       "omega0                                              7.1518   \n",
       "weights  [[-1.5922402985042114], [-0.7891826195734165],...   \n",
       "\n",
       "                                                         2  \\\n",
       "RMSE                                               24.1027   \n",
       "R^2                                               0.333032   \n",
       "omega0                                              7.4492   \n",
       "weights  [[-0.2996122782874196], [-0.5545957366298386],...   \n",
       "\n",
       "                                                         3  \\\n",
       "RMSE                                               27.9215   \n",
       "R^2                                               0.360082   \n",
       "omega0                                             7.26895   \n",
       "weights  [[-0.13967213709313253], [-0.5314484880875563]...   \n",
       "\n",
       "                                                         4  \\\n",
       "RMSE                                               26.9239   \n",
       "R^2                                               0.300458   \n",
       "omega0                                             7.57462   \n",
       "weights  [[-0.18105718045268585], [-0.45680968289535084...   \n",
       "\n",
       "                                                         5  \\\n",
       "RMSE                                               34.7746   \n",
       "R^2                                               0.233881   \n",
       "omega0                                              7.2679   \n",
       "weights  [[0.6277123460463381], [-0.9065209921186184], ...   \n",
       "\n",
       "                                                         E  \\\n",
       "RMSE                                                29.277   \n",
       "R^2                                               0.311599   \n",
       "omega0                                             7.34249   \n",
       "weights  [[-0.3169739096582222], [-0.6477115038609561],...   \n",
       "\n",
       "                                                        SD  \n",
       "RMSE                                               3.89441  \n",
       "R^2                                              0.0432041  \n",
       "omega0                                            0.150072  \n",
       "weights  [[0.7167910694636062], [0.1706619863852937], [...  "
      ]
     },
     "execution_count": 86,
     "metadata": {},
     "output_type": "execute_result"
    }
   ],
   "source": [
    "# initialise data of lists. \n",
    "data = {'1':[rmse[0],r2[0],omega0[0], omega[0]], \n",
    "        '2':[rmse[1],r2[1],omega0[1], omega[1]],\n",
    "        '3':[rmse[2],r2[2],omega0[2], omega[2]],\n",
    "        '4':[rmse[3],r2[3],omega0[3], omega[3]],\n",
    "        '5':[rmse[4],r2[4],omega0[4], omega[4]],\n",
    "        'E':[np.mean(rmse),np.mean(r2), np.mean(omega0),np.mean(omega,axis=0)],\n",
    "        'SD':[np.std(rmse),np.std(r2), np.std(omega0),np.std(omega,axis=0)]} \n",
    " \n",
    "# Creates pandas DataFrame. \n",
    "df = pd.DataFrame(data, index =['RMSE', 'R^2', 'omega0', 'weights']) \n",
    "df"
   ]
  },
  {
   "cell_type": "code",
   "execution_count": 88,
   "metadata": {},
   "outputs": [
    {
     "data": {
      "text/plain": [
       "7.26790018537433"
      ]
     },
     "execution_count": 88,
     "metadata": {},
     "output_type": "execute_result"
    }
   ],
   "source": [
    "np.mean(linear_regression_predict(x_train_4,omega[4],omega0[4]))"
   ]
  },
  {
   "cell_type": "code",
   "execution_count": null,
   "metadata": {},
   "outputs": [],
   "source": []
  }
 ],
 "metadata": {
  "kernelspec": {
   "display_name": "Python 3",
   "language": "python",
   "name": "python3"
  },
  "language_info": {
   "codemirror_mode": {
    "name": "ipython",
    "version": 3
   },
   "file_extension": ".py",
   "mimetype": "text/x-python",
   "name": "python",
   "nbconvert_exporter": "python",
   "pygments_lexer": "ipython3",
   "version": "3.6.4"
  }
 },
 "nbformat": 4,
 "nbformat_minor": 2
}
